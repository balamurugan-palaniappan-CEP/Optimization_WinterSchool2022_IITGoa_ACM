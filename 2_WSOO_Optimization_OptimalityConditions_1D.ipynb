{
  "nbformat": 4,
  "nbformat_minor": 0,
  "metadata": {
    "colab": {
      "provenance": [],
      "include_colab_link": true
    },
    "kernelspec": {
      "name": "python3",
      "display_name": "Python 3"
    },
    "language_info": {
      "name": "python"
    }
  },
  "cells": [
    {
      "cell_type": "markdown",
      "metadata": {
        "id": "view-in-github",
        "colab_type": "text"
      },
      "source": [
        "<a href=\"https://colab.research.google.com/github/balamurugan-palaniappan-CEP/Optimization_WinterSchool2022_IITGoa_ACM/blob/main/WSOO_Optimization_OptimalityConditions_1D.ipynb\" target=\"_parent\"><img src=\"https://colab.research.google.com/assets/colab-badge.svg\" alt=\"Open In Colab\"/></a>"
      ]
    },
    {
      "cell_type": "markdown",
      "metadata": {
        "id": "JkXxb4xT6lvr"
      },
      "source": [
        "$\\Large\\textbf{Optimality Conditions}$  \n",
        "\n",
        "$\\large\\textbf{Recall: }$\n",
        "\n",
        "We considered a generic optimization problem: \n",
        "\n",
        "$\n",
        "\\begin{align}\n",
        "\\min_{\\mathbf{x} \\in {\\mathbb{R}}^n} f(\\mathbf{x}).\n",
        "\\end{align}\n",
        "$\n",
        "\n",
        "Note that we have considered a $\\large{\\text{minimization problem}}$ here, which would be relevant to some ML applications. \n",
        "\n",
        "We call the function $f(\\mathbf{x})$ as the $\\large{\\text{objective function}}$. \n",
        "\n",
        "We call the variable $\\mathbf{x}$ as the $\\large{\\text{decision variable}}$ or $\\large{\\text{optimization variable}}$. \n",
        "\n",
        "The set from which the decision variable arises is called $\\large{\\text{feasible set}}$. In our case, ${\\mathbb{R}}^n$, the $n$-dimensional Euclidean space is the feasible set. \n",
        "\n",
        "Suppose if our problem had been of the form \n",
        "\n",
        "$\n",
        "\\begin{align}\n",
        "\\min_{\\mathbf{x}} & \\ f(\\mathbf{x}) \\\\ \n",
        "\\text{s.t.} & \\ x \\in \\mathcal{C}\n",
        "\\end{align}\n",
        "$\n",
        "\n",
        "then $\\mathcal{C}$ is called the feasible set. Usually constraints define the feasible set. Typically $\\mathcal{C}$ is assumed to be a subset of some high dimensional Euclidean space. \n",
        "\n",
        "___\n",
        "\n"
      ]
    },
    {
      "cell_type": "markdown",
      "metadata": {
        "id": "J-6-OypM9jJf"
      },
      "source": [
        "\n",
        "$\\Large{\\text{What do we require to solve }}$ $\\min_{\\mathbf{x} \\in {\\mathbb{R}}^n} f(\\mathbf{x})$ $\\Large{\\text{?}}$\n",
        "\n",
        "\n",
        "$\\textbf{Recall:}$ when we restrict to $n=1$, that is when ${x} \\in {\\mathbb{R}}$, the real line, we can use basic calculus techniques to solve  $\\min_{{x} \\in {\\mathbb{R}}} f({x})$. \n",
        "\n",
        "$\\large{\\text{Example:}}$ \n",
        "\n",
        "Consider solving $\\min\\limits_{x \\in {\\mathbb{R}}} x^2 - 2x + 3$. \n",
        "\n"
      ]
    },
    {
      "cell_type": "code",
      "source": [
        "#@title\n",
        "import numpy as np\n",
        "import matplotlib.pyplot as plt\n",
        "\n",
        "\n",
        "x = np.linspace(-10,10,100)\n",
        "y = x**2-2*x+3\n",
        "\n",
        "fig, ax = plt.subplots(1,1)\n",
        "ax.plot(x,y)\n",
        "\n",
        "ax.set_xlabel('x')\n",
        "ax.set_ylabel('y=$x^2 - 2x + 3$')\n",
        "ax.set_title('Graph of function y=$x^2 - 2x + 3$')\n",
        "ax.set_xlim(left=-10,right=10)\n",
        "ax.set_ylim(bottom=-10, top=125)\n",
        "\n",
        "plt.show()"
      ],
      "metadata": {
        "colab": {
          "base_uri": "https://localhost:8080/",
          "height": 299
        },
        "id": "AGZQDQNvvzGV",
        "outputId": "bed29067-21d1-48de-ddbc-724477c83ea0",
        "cellView": "form"
      },
      "execution_count": null,
      "outputs": [
        {
          "output_type": "display_data",
          "data": {
            "text/plain": [
              "<Figure size 432x288 with 1 Axes>"
            ],
            "image/png": "[encoded data removed]"
          },
          "metadata": {
            "needs_background": "light"
          }
        }
      ]
    },
    {
      "cell_type": "markdown",
      "source": [
        "From calculus, we will do the following:\n",
        "\n",
        "\n",
        "\n",
        "1.   First we find the derivative (or) differential $f'({x})$ of the objective function  and then equate it to zero. Hence $f'({x}) = 0$ is solved to find some $\\tilde{{x}}$ such that $f'(\\tilde{{x}}) = 0$. \n",
        "2.   Then we check if $\\tilde{{x}}$ is indeed a minimizer by checking if the double derivative of the objective function at $\\tilde{{x}}$ is positive or not. Hence we check if $f''(\\tilde{{x}}) > 0$. If this holds, we take $\\tilde{x}$ as the minimizer. \n",
        "\n",
        "\n"
      ],
      "metadata": {
        "id": "3WGWfEd0U_jA"
      }
    },
    {
      "cell_type": "code",
      "source": [
        "#@title\n",
        "import numpy as np\n",
        "import matplotlib.pyplot as plt\n",
        "\n",
        "\n",
        "x = np.linspace(-10,10,100)\n",
        "y = x**2-2*x+3\n",
        "\n",
        "#Note: y' = 2*x-2, hence by letting y'=0, we get 2*x-2 = 0, thus x=1 is a candidate point. \n",
        "#Since y'' = 2 for any x,  we see that x* = 1 is the minimizer and y*=y(x*) = 2.\n",
        "\n",
        "fig, ax = plt.subplots(1,1)\n",
        "ax.plot(x,y)\n",
        "\n",
        "x_star = 1\n",
        "y_star = 2\n",
        "x_left = -12\n",
        "y_down = -10\n",
        "\n",
        "#plot line indicating the optimal decision variable x* on x-axis \n",
        "ax.plot([x_star, x_star], [y_down, y_star], linestyle='dashed') \n",
        "\n",
        "#plot line indicating the optimal function value y* on y-axis\n",
        "ax.plot([x_left, x_star], [y_star, y_star], linestyle='dashed') \n",
        "\n",
        "#plot the optimal (x*,y*) point on the graph\n",
        "ax.plot([x_star], [y_star], marker='o', markersize=8) \n",
        "\n",
        "ax.annotate('(x*, y*)= (1,2)',\n",
        "            xy=(1, 3), xycoords='data',\n",
        "            xytext=(-5, 35), textcoords='offset points',\n",
        "            arrowprops=dict(facecolor='black', shrink=0.05),\n",
        "            horizontalalignment='right', verticalalignment='bottom')\n",
        "\n",
        "ax.set_xlabel('x')\n",
        "ax.set_ylabel('y=$x^2 - 2x + 3$')\n",
        "ax.set_xlim(left=-10,right=10)\n",
        "ax.set_ylim(bottom=-10, top=125)\n",
        "\n",
        "plt.show()\n",
        "\n"
      ],
      "metadata": {
        "colab": {
          "base_uri": "https://localhost:8080/",
          "height": 279
        },
        "id": "OBvL8m97VB-m",
        "outputId": "b40a3242-645f-4a85-ff08-cfc5cd3666c1",
        "cellView": "form"
      },
      "execution_count": null,
      "outputs": [
        {
          "output_type": "display_data",
          "data": {
            "text/plain": [
              "<Figure size 432x288 with 1 Axes>"
            ],
            "image/png": "[encoded data removed]"
          },
          "metadata": {
            "needs_background": "light"
          }
        }
      ]
    },
    {
      "cell_type": "markdown",
      "source": [
        "#Let us plot the graphs of the function, its derviative and double derivative. \n",
        "\n",
        "$\n",
        "\\begin{align}\n",
        "f(x) &= x^2 - 2x + 3 \\\\ \n",
        "f'(x) &= 2x - 2 \\\\\n",
        "f''(x) &= 2. \n",
        "\\end{align}\n",
        "$"
      ],
      "metadata": {
        "id": "IVMpzrVXxoGx"
      }
    },
    {
      "cell_type": "code",
      "source": [
        "#@title\n",
        "import numpy as np\n",
        "import matplotlib.pyplot as plt\n",
        "\n",
        "x = np.linspace(-4,4,100)\n",
        "#y = 3*np.ones(len(x))\n",
        "f = x**2 - 2*x + 3\n",
        "f_dash = 2*x - 2\n",
        "f_ddash = 2*np.ones(len(x))\n",
        "\n",
        "fig, ax = plt.subplots(1,3,sharey=True,figsize=(8, 8))\n",
        "#print(ax.shape)\n",
        "\n",
        "fn, = ax[0].plot(x,f,'b')\n",
        "fn_deriv, = ax[1].plot(x,f_dash,'r')\n",
        "fn_dderiv, = ax[2].plot(x,f_ddash,'g')\n",
        "for i in range(3):\n",
        "   ax[i].set_xlabel('x')\n",
        "   ax[i].set_ylim(-2,6)\n",
        "   ax[i].set_xlim(-4,4)\n",
        "   \n",
        "ax[0].set_ylabel('$f(x) = x^2 - 2x + 3$')\n",
        "ax[1].set_ylabel('$f\\;\\'\\;(x) = 2x - 2$')\n",
        "ax[2].set_ylabel('$f\\;\\'\\'\\;(x) = 2$')\n",
        "\n",
        "\n",
        "x_star = 1\n",
        "y_star = 2\n",
        "x_left = -4\n",
        "y_down = -10\n",
        "\n",
        "#plot line indicating the optimal decision variable x* on x-axis \n",
        "ax[0].plot([x_star, x_star], [y_down, y_star], linestyle='dashed') \n",
        "\n",
        "#plot line indicating the optimal function value y* on y-axis\n",
        "ax[0].plot([x_left, x_star], [y_star, y_star], linestyle='dashed') \n",
        "\n",
        "#plot the optimal (x*,y*) point on the graph\n",
        "ax[0].plot([x_star], [y_star], marker='o', markersize=8) \n",
        "\n",
        "\n",
        "fdash_star = 0\n",
        "\n",
        "#plot line indicating the optimal decision variable x* on x-axis \n",
        "ax[1].plot([x_star, x_star], [y_down, fdash_star], linestyle='dashed') \n",
        "\n",
        "#plot line indicating the derivative value  at x* on y-axis\n",
        "ax[1].plot([x_left, x_star], [fdash_star, fdash_star], linestyle='dashed') \n",
        "\n",
        "#plot the optimal (x*,f_dash(x*)) point on the graph\n",
        "ax[1].plot([x_star], [fdash_star], marker='o', markersize=8) \n",
        "\n",
        "fddash_star = 2\n",
        "\n",
        "#plot line indicating the optimal decision variable x* on x-axis \n",
        "ax[2].plot([x_star, x_star], [y_down, fddash_star], linestyle='dashed') \n",
        "\n",
        "#plot line indicating the double derivative value  at x* on y-axis\n",
        "#ax[2].plot([x_left, x_star], [fddash_star, fddash_star], linestyle='dashed') \n",
        "\n",
        "#plot the optimal (x*,f_ddash(x*)) point on the graph\n",
        "ax[2].plot([x_star], [fddash_star], marker='o', markersize=8) \n",
        "\n",
        "# ax.legend([fn,fn_deriv,fn_dderiv], ['f(x)', 'f\\'(x)', 'f\\'\\'(x)'])\n",
        "# #ax.legend([fn,fn_deriv, fn_dderiv], ['f(x)', 'f\\'(x)', 'f\\'\\'(x)'])\n",
        "plt.show()\n"
      ],
      "metadata": {
        "colab": {
          "base_uri": "https://localhost:8080/",
          "height": 501
        },
        "id": "sdH-vpbUzm9u",
        "outputId": "6e0f192d-e261-47db-a7fc-c0cbc9a5940a",
        "cellView": "form"
      },
      "execution_count": null,
      "outputs": [
        {
          "output_type": "display_data",
          "data": {
            "text/plain": [
              "<Figure size 576x576 with 3 Axes>"
            ],
            "image/png": "[encoded data removed]"
          },
          "metadata": {
            "needs_background": "light"
          }
        }
      ]
    },
    {
      "cell_type": "markdown",
      "source": [
        "#Insufficiency of $f'(\\tilde{x})=0$ condition for minimality of $\\tilde{x}$\n",
        "\n",
        "$\\textbf{Note:}$ If $f'(\\tilde{{x}}) = 0$, it does not necessarily imply that $\\tilde{{x}}$ is a minimizer. \n",
        "\n",
        "$\\textbf{Example:}$ Consider $f(x) = -x^2 + 2x - 3$. Let us check the graph of this function. \n"
      ],
      "metadata": {
        "id": "FRBhhOns6EmW"
      }
    },
    {
      "cell_type": "code",
      "source": [
        "#@title\n",
        "import numpy as np\n",
        "import matplotlib.pyplot as plt\n",
        "\n",
        "\n",
        "x = np.linspace(-10,10,100)\n",
        "y = -x**2+2*x-3\n",
        "\n",
        "fig, ax = plt.subplots(1,1)\n",
        "ax.plot(x,y)\n",
        "\n",
        "ax.set_xlabel('x')\n",
        "ax.set_ylabel('f(x)=$-x^2 + 2x - 3$')\n",
        "ax.set_title('Graph of function f(x)=$-x^2 + 2x - 3$')\n",
        "ax.set_xlim(left=-10,right=10)\n",
        "ax.set_ylim(bottom=-125, top=20)\n",
        "\n",
        "plt.show()"
      ],
      "metadata": {
        "colab": {
          "base_uri": "https://localhost:8080/",
          "height": 299
        },
        "id": "X5QLbDHL8LG_",
        "outputId": "e737c07b-db1a-4005-ce63-6759e278d887",
        "cellView": "form"
      },
      "execution_count": null,
      "outputs": [
        {
          "output_type": "display_data",
          "data": {
            "text/plain": [
              "<Figure size 432x288 with 1 Axes>"
            ],
            "image/png": "[encoded data removed]"
          },
          "metadata": {
            "needs_background": "light"
          }
        }
      ]
    },
    {
      "cell_type": "markdown",
      "source": [
        "Note that for function $f(x) = -x^2 + 2x - 3$, we have $f'(x) = -2x + 2$. Hence we get: $\\tilde{x} = 1$ where $f'(\\tilde{x})=0$. \n",
        "\n",
        "However $f(\\tilde{x})=f(1) = -2$ appears to be a maximum value in the graph of the function as we see below. "
      ],
      "metadata": {
        "id": "8xZbR0Oh8j_Q"
      }
    },
    {
      "cell_type": "code",
      "source": [
        "#@title\n",
        "import numpy as np\n",
        "import matplotlib.pyplot as plt\n",
        "\n",
        "\n",
        "x = np.linspace(-10,10,100)\n",
        "y = -x**2+2*x-3\n",
        "\n",
        "#Note: y' = -2*x+2, hence by letting y'=0, we get -2*x+2 = 0, thus x=1 is a candidate point. \n",
        "#Since y'' = -2 for any x,  we see that x* = 1 is the maximizer and y*=y(x*) = -2.\n",
        "\n",
        "fig, ax = plt.subplots(1,1)\n",
        "ax.plot(x,y)\n",
        "\n",
        "x_star = 1\n",
        "y_star = -2\n",
        "x_left = -12\n",
        "y_up = 20\n",
        "y_down = -125\n",
        "\n",
        "#plot line indicating the optimal decision variable x* on x-axis \n",
        "ax.plot([x_star, x_star], [y_down, y_star], linestyle='dashed') \n",
        "\n",
        "#plot line indicating the optimal function value y* on y-axis\n",
        "ax.plot([x_left, x_star], [y_star, y_star], linestyle='dashed') \n",
        "\n",
        "#plot the optimal (x*,y*) point on the graph\n",
        "ax.plot([x_star], [y_star], marker='o', markersize=8) \n",
        "\n",
        "ax.annotate('$f(1)\\;=\\; -2$ is the maximum value of function $f\\;$.',\n",
        "            xy=(1, 3), xycoords='data',\n",
        "            xytext=(-5, 35), textcoords='offset points',\n",
        "            arrowprops=dict(facecolor='black', shrink=0.05),\n",
        "            horizontalalignment='right', verticalalignment='bottom')\n",
        "\n",
        "ax.set_xlabel('x')\n",
        "ax.set_ylabel('y=$-x^2 + 2x - 3$')\n",
        "ax.set_xlim(left=-10,right=10)\n",
        "ax.set_ylim(bottom=-125, top=20)\n",
        "\n",
        "plt.show()\n"
      ],
      "metadata": {
        "colab": {
          "base_uri": "https://localhost:8080/",
          "height": 302
        },
        "id": "qRyGQKSJ9Ezj",
        "outputId": "7144c40a-f6ee-445e-a06f-c52bb91c1029",
        "cellView": "form"
      },
      "execution_count": null,
      "outputs": [
        {
          "output_type": "display_data",
          "data": {
            "text/plain": [
              "<Figure size 432x288 with 1 Axes>"
            ],
            "image/png": "[encoded data removed]"
          },
          "metadata": {
            "needs_background": "light"
          }
        }
      ]
    },
    {
      "cell_type": "markdown",
      "source": [
        "$\\textbf{Recall:}$ We checked if $\\tilde{x}$ is indeed a minimizer by checking if the double derivative of the objective function at $\\tilde{{x}}$ is positive or not, that is if $f''(\\tilde{x}) > 0$. If this holds, we take $\\tilde{x}$ as the minimizer. \n",
        "\n",
        "For the example $f(x) = -x^2 + 2x - 3$, at $\\tilde{x} = 1$ where $f'(\\tilde{x}) = 0$, we have $f''(\\tilde{x}) = -2$. (In fact, $f''(x)=-2$ for every $x$!)\n",
        "\n",
        "Thus the double derivative check $f''(\\tilde{x}) > 0$ becomes a ${\\color{magenta}{\\text{sufficient}}}$ condition for minimality at $\\tilde{x}$. \n",
        "\n",
        "#Exercise: \n",
        "Check the derivative, double derivative plots for $f(x) = -x^2 - 2x + 3$. \n",
        "\n",
        "___"
      ],
      "metadata": {
        "id": "IdkNbQ1u-8rG"
      }
    },
    {
      "cell_type": "markdown",
      "source": [
        "#Another Example\n",
        "\n",
        "Consider $f(x) = (x-2)^4$. \n",
        "\n",
        "For this function, we have:\n",
        "\n",
        "$f'(x) = 4(x-2)^3$, $f''(x) = 12(x-2)^2$. \n",
        "\n",
        "Here we have $\\tilde{x} = 2$ where $f'(\\tilde{x}) = f'(2) = 0$.\n",
        "\n",
        "However $f''(\\tilde{x}) = f''(2) = 0$. \n",
        "\n",
        "Here the $\\textbf{second derivative test}$ is ${\\color{red}{\\textbf{not useful}}}$ to certify if $\\tilde{x}=2$ is a minimizer of $f$.\n",
        "\n",
        "Let us check the graph of the function $f$ and the behavior at $\\tilde{x} = 2$. "
      ],
      "metadata": {
        "id": "JJRf3U4DJfd8"
      }
    },
    {
      "cell_type": "code",
      "source": [
        "#@title\n",
        "import numpy as np\n",
        "import matplotlib.pyplot as plt\n",
        "\n",
        "\n",
        "x = np.linspace(-4,4,100)\n",
        "y = (x-2)**4\n",
        "\n",
        "#Note: y' = 4*(x-2)^3, hence by letting y'=0, we get 4*(x-2)^3 = 0, thus x=2 is a candidate point. \n",
        "#Since y'' = 0 at x=2,  we cannot certify if x* = 2 is a minimizer of f.\n",
        "\n",
        "fig, ax = plt.subplots(1,1)\n",
        "ax.plot(x,y)\n",
        "\n",
        "x_star = 2\n",
        "y_star = 0\n",
        "x_left = -4\n",
        "y_up = 20\n",
        "y_down = -5\n",
        "\n",
        "#plot line indicating the optimal decision variable x* on x-axis \n",
        "ax.plot([x_star, x_star], [y_down, y_star], linestyle='dashed') \n",
        "\n",
        "#plot line indicating the optimal function value y* on y-axis\n",
        "ax.plot([x_left, x_star], [y_star, y_star], linestyle='dashed') \n",
        "\n",
        "#plot the optimal (x*,y*) point on the graph\n",
        "ax.plot([x_star], [y_star], marker='o', markersize=8) \n",
        "\n",
        "ax.annotate('$f(2)\\;=\\; 0$ is the minimum value of function $f\\;$.',\n",
        "            xy=(2, 0), xycoords='data',\n",
        "            xytext=(15, 50), textcoords='offset points',\n",
        "            arrowprops=dict(facecolor='black', shrink=0.05),\n",
        "            horizontalalignment='left', verticalalignment='bottom')\n",
        "\n",
        "ax.set_xlabel('x')\n",
        "ax.set_ylabel('y=$(x-2)^4$')\n",
        "ax.set_xlim(left=-4,right=4)\n",
        "ax.set_ylim(bottom=-5, top=20)\n",
        "\n",
        "plt.show()\n"
      ],
      "metadata": {
        "colab": {
          "base_uri": "https://localhost:8080/",
          "height": 283
        },
        "id": "JQFi_c3kKNYY",
        "outputId": "5d4b7570-6479-4768-e35c-ef0c16b183ec",
        "cellView": "form"
      },
      "execution_count": null,
      "outputs": [
        {
          "output_type": "display_data",
          "data": {
            "text/plain": [
              "<Figure size 432x288 with 1 Axes>"
            ],
            "image/png": "[encoded data removed]"
          },
          "metadata": {
            "needs_background": "light"
          }
        }
      ]
    },
    {
      "cell_type": "markdown",
      "source": [
        "The above plot does not clearly indicate if $\\tilde{x}=2$ is the only minimizer. \n",
        "\n",
        "Let us check the derivative and double derivative plots at $\\tilde{x}=2$. "
      ],
      "metadata": {
        "id": "6cTL6p0sPSxi"
      }
    },
    {
      "cell_type": "code",
      "source": [
        "#@title\n",
        "import numpy as np\n",
        "import matplotlib.pyplot as plt\n",
        "\n",
        "x = np.linspace(1,3,100)\n",
        "#y = 3*np.ones(len(x))\n",
        "f = (x-2)**4\n",
        "f_dash = 4*(x-2)**3\n",
        "f_ddash = 12*(x-2)**2\n",
        "\n",
        "fig, ax = plt.subplots(1,3,sharey=True,figsize=(8, 8))\n",
        "#print(ax.shape)\n",
        "\n",
        "fn, = ax[0].plot(x,f,'b')\n",
        "fn_deriv, = ax[1].plot(x,f_dash,'r')\n",
        "fn_dderiv, = ax[2].plot(x,f_ddash,'m')\n",
        "for i in range(3):\n",
        "   ax[i].set_xlabel('x')\n",
        "   ax[i].set_ylim(-5,5)\n",
        "   ax[i].set_xlim(1,3)\n",
        "   \n",
        "ax[0].set_ylabel('$f(x) = (x-2)^4$')\n",
        "ax[1].set_ylabel('$f\\;\\'\\;(x) = 4(x-2)^3$')\n",
        "ax[2].set_ylabel('$f\\;\\'\\'\\;(x) = 12(x-2)^2$')\n",
        "\n",
        "\n",
        "x_star = 2\n",
        "y_star = 0\n",
        "x_left = 1\n",
        "y_down = -5\n",
        "\n",
        "#plot line indicating the optimal decision variable x* on x-axis \n",
        "ax[0].plot([x_star, x_star], [y_down, y_star], linestyle='dashed') \n",
        "\n",
        "#plot line indicating the optimal function value y* on y-axis\n",
        "ax[0].plot([x_left, x_star], [y_star, y_star], linestyle='dashed') \n",
        "\n",
        "#plot the optimal (x*,y*) point on the graph\n",
        "ax[0].plot([x_star], [y_star], marker='o', markersize=8) \n",
        "\n",
        "\n",
        "fdash_star = 0\n",
        "\n",
        "#plot line indicating the optimal decision variable x* on x-axis \n",
        "ax[1].plot([x_star, x_star], [y_down, fdash_star], linestyle='dashed') \n",
        "\n",
        "#plot line indicating the derivative value  at x* on y-axis\n",
        "ax[1].plot([x_left, x_star], [fdash_star, fdash_star], linestyle='dashed') \n",
        "\n",
        "#plot the optimal (x*,f_dash(x*)) point on the graph\n",
        "ax[1].plot([x_star], [fdash_star], marker='o', markersize=8) \n",
        "\n",
        "fddash_star = 0\n",
        "\n",
        "#plot line indicating the optimal decision variable x* on x-axis \n",
        "ax[2].plot([x_star, x_star], [y_down, fddash_star], linestyle='dashed') \n",
        "\n",
        "#plot line indicating the double derivative value  at x* on y-axis\n",
        "ax[2].plot([x_left, x_star], [fddash_star, fddash_star], linestyle='dashed') \n",
        "\n",
        "#plot the optimal (x*,f_ddash(x*)) point on the graph\n",
        "ax[2].plot([x_star], [fddash_star], marker='o', markersize=8) \n",
        "\n",
        "# ax.legend([fn,fn_deriv,fn_dderiv], ['f(x)', 'f\\'(x)', 'f\\'\\'(x)'])\n",
        "# #ax.legend([fn,fn_deriv, fn_dderiv], ['f(x)', 'f\\'(x)', 'f\\'\\'(x)'])\n",
        "plt.show()\n"
      ],
      "metadata": {
        "colab": {
          "base_uri": "https://localhost:8080/",
          "height": 497
        },
        "id": "AdByaWK5PRHr",
        "outputId": "70ac9676-2e50-4946-fcaf-cc0223430ffa",
        "cellView": "form"
      },
      "execution_count": null,
      "outputs": [
        {
          "output_type": "display_data",
          "data": {
            "text/plain": [
              "<Figure size 576x576 with 3 Axes>"
            ],
            "image/png": "[encoded data removed]"
          },
          "metadata": {
            "needs_background": "light"
          }
        }
      ]
    },
    {
      "cell_type": "markdown",
      "source": [
        "From the plots, we can see that $\\tilde{x} = 2$ is the only (or strict) minimizer of $f(x) = (x-2)^4$. However $f''(x)$ at $x=2$ is zero. \n",
        "\n",
        "Thus we can see that the double derivative test $f''(\\tilde{x})>0$ is $\\textbf{not a necessary condition}$ for minimality of $\\tilde{x}$. \n",
        "\n",
        "___"
      ],
      "metadata": {
        "id": "KRCPRrstROA3"
      }
    },
    {
      "cell_type": "markdown",
      "source": [
        "#Let us now discuss these conditions more rigorously. "
      ],
      "metadata": {
        "id": "QZGaqtEgSegy"
      }
    },
    {
      "cell_type": "markdown",
      "source": [
        "#First order necessary condition. \n",
        "\n",
        "Consider the optimization problem $\\min\\limits_{x \\in \\mathbb{R}} f(x)$, where $f$ is continuously differentiable over $\\mathbb{R}$. Let $x^\\star$ be a local minimizer of $f(x)$, that is, $f(x^\\star) \\leq f(x), \\ \\forall x \\in \\mathcal{N}(x^\\star,\\epsilon)\\subseteq \\mathbb{R}$ for some $\\epsilon > 0$. Then $f'(x^\\star) = 0$. \n",
        "\n"
      ],
      "metadata": {
        "id": "BvpW5vWmSjrE"
      }
    },
    {
      "cell_type": "markdown",
      "source": [
        "#Proof of the necessary condition. \n",
        "\n",
        "Before we prove the result, we recall the definition of derivative of $f$ at $x^\\star$: \n",
        "\n",
        "$\n",
        "f'(x^\\star) = \\lim\\limits_{h \\to 0} \\frac{f(x^\\star+h)-f(x^\\star)}{h}.\n",
        "$\n",
        "\n",
        "Since $f$ is continuously differentiable over $\\mathbb{R}$, the derivative exists at every point in $\\mathbb{R}$, and we know that both the left limit and right limit exist and equal the derivative. \n",
        "\n",
        "First, let us consider the left limit given by:\n",
        "\n",
        "$\n",
        "\\lim\\limits_{h \\downarrow 0} \\frac{f(x^\\star+h)-f(x^\\star)}{h}.\n",
        "$\n",
        "\n",
        "We further know that $f(x^\\star) \\leq f(x), \\ \\forall x \\in \\mathcal{N}(x^\\star,\\epsilon)\\subseteq \\mathbb{R}$ for some $\\epsilon >0$. In particular, we have $f(x^\\star) \\leq f(x^\\star+h)$ when $h < \\epsilon$. \n",
        "\n",
        "There exists a $0 < \\epsilon_1 < \\epsilon$ such that $\\forall h \\in (0, \\epsilon_1]$, \n",
        "\n",
        "$\n",
        "\\frac{f(x^\\star+h)-f(x^\\star)}{h} \\geq 0.\n",
        "$\n",
        "\n",
        "Because of existence of left limit and its equivalence to derivative, we have:\n",
        "\n",
        "$\n",
        "\\begin{align}\n",
        "f'(x^\\star) = \\lim\\limits_{h \\downarrow 0} \\frac{f(x^\\star+h)-f(x^\\star)}{h} \\geq 0. \n",
        "\\end{align}\n",
        "$\n",
        "\n",
        "\n",
        "By a similar argument, from the right limit, we get:\n",
        "\n",
        "$\n",
        "\\begin{align}\n",
        "f'(x^\\star) = \\lim\\limits_{h \\uparrow 0} \\frac{f(x^\\star+h)-f(x^\\star)}{h} \\leq 0. \n",
        "\\end{align}\n",
        "$\n",
        "\n",
        "Thus from the above equations, we have $f'(x^\\star) = 0$. \n"
      ],
      "metadata": {
        "id": "uDtXkaA3XPhR"
      }
    },
    {
      "cell_type": "markdown",
      "source": [
        "#Stationary point\n",
        "\n",
        "Let $f:\\mathbb{R}\\to \\mathbb{R}$ be a continuously differentiable function.  A point $x^\\star \\in \\mathbb{R}$ is called a ${\\color{blue}{\\text{stationary point}}}$ of $f$ if $f'(x^\\star) = 0$. \n",
        "\n",
        "________"
      ],
      "metadata": {
        "id": "Exysy-c_rgTg"
      }
    },
    {
      "cell_type": "markdown",
      "source": [
        "#Second order sufficient condition. \n",
        "\n",
        "Consider the optimization problem $\\min\\limits_{x \\in \\mathbb{R}} f(x)$, where $f$ is twice continuously differentiable over $\\mathbb{R}$. Let $x^\\star$ be a stationary point of $f$. If $f''(x^\\star) > 0$, then $x^\\star$ is a $\\textbf{strict local minimizer}$ of $f$, that is, $f(x^\\star) < f(x), \\ \\forall x \\in \\mathcal{N}(x^\\star, \\epsilon) \\subseteq \\mathbb{R}$, for some $\\epsilon >0$. \n"
      ],
      "metadata": {
        "id": "lWBYBgKNnWhi"
      }
    },
    {
      "cell_type": "markdown",
      "source": [
        "Before we prove the sufficient condition, we state a fundamental result. \n",
        "\n",
        "#Linear Approximation Theorem. \n",
        "\n",
        "Let $f:\\mathbb{R} \\to \\mathbb{R}$ be a twice continuously differentiable function over $\\mathbb{R}$. Let $x \\in \\mathbb{R}$ and let $r>0$ be such that the open interval $(x-r,x+r) \\subseteq \\mathbb{R}$. Then for any $y \\in  (x-r,x+r)$, there exists $\\zeta_y \\in [x,y]$ such that: \n",
        "\n",
        "$\n",
        "f(y) {\\color{red}{\\mathbf{=}}} f(x) + f'(x)(y-x) + \\frac{1}{2}(y-x)f''(\\zeta_y)(y-x).  \n",
        "$"
      ],
      "metadata": {
        "id": "HhnkfG13pewk"
      }
    },
    {
      "cell_type": "markdown",
      "source": [
        "#Proof of Second Order Sufficient Condition\n",
        "\n",
        "Since $f''(x^\\star)>0$ and since $f''$ is continuous, there exists some $r>0$ such that $f''(x)>0, \\ \\forall x \\in (x^\\star-r,x^\\star+r)$. That is, $f''(x)$ is strictly positive for every point in a neighborhood of $x^\\star$. \n",
        "\n",
        "From the linear approximation theorem, we have at $x^\\star$ and for every $y \\in (x^\\star-r, x^\\star+r)$, there exists $\\zeta_y$ such that: \n",
        "\n",
        "$\n",
        "f(y) {\\color{red}{\\mathbf{=}}} f(x^\\star) + f'(x^\\star)(y-x^\\star) + \\frac{1}{2}(y-x^\\star)f''(\\zeta_y)(y-x^\\star).  \n",
        "$\n",
        "\n",
        "We further know that $f'(x^\\star)=0$ and $f''(\\zeta_y) > 0$. Thus:\n",
        "\n",
        "$\n",
        "f(y) {\\color{red}{\\mathbf{=}}} f(x^\\star) + \\frac{1}{2}(y-x^\\star)^2f''(\\zeta_y)\\implies f(y) > f(x^\\star).  \n",
        "$\n",
        "\n",
        "Hence $x^\\star$ is a strict minimizer of $f$. "
      ],
      "metadata": {
        "id": "eKYUkE5ZrFXd"
      }
    },
    {
      "cell_type": "markdown",
      "source": [
        "#More Examples. \n",
        "\n",
        "Consider $f(x) = (-x-1)^3$. \n",
        "\n",
        "Here we have $\\tilde{x} = -1$ where $f'(\\tilde{x}) = f'(-1) = 0$. \n",
        "\n",
        "Let us check the graph of this function and the behavior at $\\tilde{x} = -1$. "
      ],
      "metadata": {
        "id": "geQ_-ym4Doxa"
      }
    },
    {
      "cell_type": "code",
      "source": [
        "#@title\n",
        "import numpy as np\n",
        "import matplotlib.pyplot as plt\n",
        "\n",
        "\n",
        "x = np.linspace(-4,4,100)\n",
        "y = (-x-1)**3\n",
        "\n",
        "#Note: y' = -2*(-x-1)^2, hence by letting y'=0, we get -2*(-x-1)*2 = 0, thus x=-1 is a candidate point. \n",
        "#Since y'' = 0 at x=-1,  we see that x* = -1 neither a minimizer nor a maximizer.\n",
        "\n",
        "fig, ax = plt.subplots(1,1)\n",
        "ax.plot(x,y)\n",
        "\n",
        "x_star = -1\n",
        "y_star = 0\n",
        "x_left = -4\n",
        "y_up = 20\n",
        "y_down = -20\n",
        "\n",
        "#plot line indicating the optimal decision variable x* on x-axis \n",
        "ax.plot([x_star, x_star], [y_down, y_star], linestyle='dashed') \n",
        "\n",
        "#plot line indicating the optimal function value y* on y-axis\n",
        "ax.plot([x_left, x_star], [y_star, y_star], linestyle='dashed') \n",
        "\n",
        "#plot the optimal (x*,y*) point on the graph\n",
        "ax.plot([x_star], [y_star], marker='o', markersize=8) \n",
        "\n",
        "ax.annotate('$f(-1)\\;=\\; 0$ is neither minimum value nor maximum value of function $f\\;$.',\n",
        "            xy=(-1, 0), xycoords='data',\n",
        "            xytext=(15, 50), textcoords='offset points',\n",
        "            arrowprops=dict(facecolor='black', shrink=0.05),\n",
        "            horizontalalignment='left', verticalalignment='bottom')\n",
        "\n",
        "ax.set_xlabel('x')\n",
        "ax.set_ylabel('y=$(-x-1)^3$')\n",
        "ax.set_xlim(left=-4,right=4)\n",
        "ax.set_ylim(bottom=-20, top=20)\n",
        "\n",
        "plt.show()\n"
      ],
      "metadata": {
        "colab": {
          "base_uri": "https://localhost:8080/",
          "height": 283
        },
        "id": "g_knsYRtEcbL",
        "outputId": "2fdb6a1a-ea99-4fec-afe8-d9dffe2cfc77",
        "cellView": "form"
      },
      "execution_count": null,
      "outputs": [
        {
          "output_type": "display_data",
          "data": {
            "text/plain": [
              "<Figure size 432x288 with 1 Axes>"
            ],
            "image/png": "[encoded data removed]"
          },
          "metadata": {
            "needs_background": "light"
          }
        }
      ]
    },
    {
      "cell_type": "markdown",
      "source": [
        "For the function $f(x) = (-x-1)^3$, we have $f''(x) = -6(x+1)$. \n",
        "\n",
        "Though at $\\tilde{x} = -1$, we have $f'(\\tilde{x})=0$, we also find that  $f''(\\tilde{x})=0$.\n",
        "\n",
        "The second derivative test is $\\textbf{not useful}$ to certify if $\\tilde{x} = -1$ is a minimizer of $f$ or not.\n",
        "\n",
        "From the graph we note that $\\tilde{x} = -1$ is not a local minimizer of $f$. \n",
        "\n",
        "Further observe from the graph that $\\tilde{x}=-1$ is also not a local maximizer of $f$. \n",
        "\n",
        "In such cases when a point $\\tilde{x}$ is a stationary point (that is $f'(\\tilde{x})=0$), but is neither a local minimizer nor a local maximizer, then the point $\\tilde{x}$ is called a $\\textbf{saddle point}$ (or $\\textbf{point of inflection}$).    \n"
      ],
      "metadata": {
        "id": "OaOKkWUeHU8r"
      }
    },
    {
      "cell_type": "markdown",
      "source": [
        "#Exercise: \n",
        "Check the derivative, double derivative plots for $f(x) = (-x-1)^3$ and comment on their behavior at $\\tilde{x}=-1$. \n",
        "\n",
        "___"
      ],
      "metadata": {
        "id": "H7nx3LYCwKS7"
      }
    },
    {
      "cell_type": "markdown",
      "source": [
        "#Exercise \n",
        "\n",
        "Check if there is a minimizer for the function $f(x) = x\\log x + (1-x) \\log (1-x)$ where $x \\log x$ is defined to be zero when $x=0$. If a minimizer exists, find the minimizer.\n",
        "\n",
        "___"
      ],
      "metadata": {
        "id": "C-CjysVQwu6U"
      }
    },
    {
      "cell_type": "markdown",
      "source": [
        "#Question\n",
        "\n",
        "Suppose $\\tilde{x}$ is a minimizer of a function $f$. Can the following hold ?\n",
        "\n",
        "*   $f''(\\tilde{x})<0$\n",
        "*   $f''(\\tilde{x})=0$\n",
        "___"
      ],
      "metadata": {
        "id": "07hx3GwN8KTI"
      }
    },
    {
      "cell_type": "markdown",
      "source": [
        "$\\large{\\text{Question:}}$ \n",
        "\n",
        "Can we extend the idea we saw in one dimension case to ${\\mathbb{R}}^n$ where $n>1$ as well? \n",
        "\n",
        "___"
      ],
      "metadata": {
        "id": "qq2WxThXxZT0"
      }
    },
    {
      "cell_type": "markdown",
      "source": [
        "$\\Large{\\text{References:}}$\n",
        "\n",
        " \n",
        "1. Dimitri P. Bertsekas. $\\textit{Nonlinear Programming}$. Athena Scientific, Second Edition, 1999.\n",
        "2.   Amir Beck, $\\textit{Introduction to Nonlinear Optimization}$. MOS-SIAM series on Optimization, 2014.\n"
      ],
      "metadata": {
        "id": "nLqVKwo595Id"
      }
    },
    {
      "cell_type": "code",
      "source": [],
      "metadata": {
        "id": "V0xNzkjs96As"
      },
      "execution_count": null,
      "outputs": []
    }
  ]
}
